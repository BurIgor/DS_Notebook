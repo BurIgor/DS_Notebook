{
 "cells": [
  {
   "cell_type": "markdown",
   "id": "8ff3e388-7e8e-4006-bde6-043e87a73003",
   "metadata": {},
   "source": [
    "# Data Science Tools and Ecosystem"
   ]
  },
  {
   "cell_type": "markdown",
   "id": "2c0b9243-6cd6-4d95-a1ea-1a284d088b5d",
   "metadata": {},
   "source": [
    "In this notebook, Data Science Tools and Ecosystem are summarized."
   ]
  },
  {
   "cell_type": "markdown",
   "id": "2756dbb9-10b4-46ae-aeb0-ee2c7472f05c",
   "metadata": {},
   "source": [
    "**Objectives:**\r\n",
    "\r\n",
    "- List popular languages for Data Science\r\n",
    "- Identify commonly used libraries in Data Science\r\n",
    "- Understand different development environment tools for Data Science\r\n",
    "- Evaluate arithmetic expressions in Python\r\n",
    "- Convert time units (minutes to hours) using Python\r\n"
   ]
  },
  {
   "cell_type": "markdown",
   "id": "c32a81d5-dd17-4aa3-981d-ab1273a29a9e",
   "metadata": {},
   "source": [
    "Some of the popular languages that Data Scientists use are:\r\n",
    "\r\n",
    "1. Python\r\n",
    "2. R\r\n",
    "3. Julia\r\n",
    "4. SQL\r\n",
    "5. Scala\r\n"
   ]
  },
  {
   "cell_type": "markdown",
   "id": "95700085-2227-4bfc-beb9-14deaa0788ae",
   "metadata": {},
   "source": [
    "Some of the commonly used libraries used by Data Scientists include:\r\n",
    "\r\n",
    "1. NumPy\r\n",
    "2. Pandas\r\n",
    "3. Matplotlib\r\n",
    "4. Scikit-learn\r\n",
    "5. TensorFlow\r\n"
   ]
  },
  {
   "cell_type": "markdown",
   "id": "c611e7cf-5341-4eea-a829-e606153008a7",
   "metadata": {},
   "source": [
    "| Data Science Tools          |\r\n",
    "|-----------------------------|\r\n",
    "| Jupyter Notebook            |\r\n",
    "| RStudio                     |\r\n",
    "| Apache Zeppelin             |\r\n"
   ]
  },
  {
   "cell_type": "markdown",
   "id": "4815e567-214a-4dc0-83e3-6e2981873b3a",
   "metadata": {},
   "source": [
    "### Below are a few examples of evaluating arithmetic expressions in Python.\n"
   ]
  },
  {
   "cell_type": "code",
   "execution_count": 7,
   "id": "7090f68c-a936-46df-bae9-b5a5ccdeeab2",
   "metadata": {},
   "outputs": [
    {
     "data": {
      "text/plain": [
       "17"
      ]
     },
     "execution_count": 7,
     "metadata": {},
     "output_type": "execute_result"
    }
   ],
   "source": [
    "# This is a simple arithmetic expression to multiply then add integers\n",
    "(3 * 4) + 5"
   ]
  },
  {
   "cell_type": "code",
   "execution_count": 9,
   "id": "aacb5d00-224d-4774-82be-cf3bc8d31d6c",
   "metadata": {},
   "outputs": [
    {
     "data": {
      "text/plain": [
       "3.3333333333333335"
      ]
     },
     "execution_count": 9,
     "metadata": {},
     "output_type": "execute_result"
    }
   ],
   "source": [
    "# This will convert 200 minutes to hours by dividing by 60\n",
    "200 / 60"
   ]
  },
  {
   "cell_type": "markdown",
   "id": "554bf676-4080-408c-adc7-3b6f153a4fba",
   "metadata": {},
   "source": [
    "## Author\n",
    "\n",
    "Ihor"
   ]
  },
  {
   "cell_type": "code",
   "execution_count": null,
   "id": "d8572aae-c1ff-4f5c-828b-b0c68e1c89d7",
   "metadata": {},
   "outputs": [],
   "source": []
  }
 ],
 "metadata": {
  "kernelspec": {
   "display_name": "Python 3 (ipykernel)",
   "language": "python",
   "name": "python3"
  },
  "language_info": {
   "codemirror_mode": {
    "name": "ipython",
    "version": 3
   },
   "file_extension": ".py",
   "mimetype": "text/x-python",
   "name": "python",
   "nbconvert_exporter": "python",
   "pygments_lexer": "ipython3",
   "version": "3.12.4"
  }
 },
 "nbformat": 4,
 "nbformat_minor": 5
}
